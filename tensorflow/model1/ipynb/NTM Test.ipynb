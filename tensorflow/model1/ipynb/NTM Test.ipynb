{
 "cells": [
  {
   "cell_type": "code",
   "execution_count": 1,
   "metadata": {
    "collapsed": false
   },
   "outputs": [],
   "source": [
    "%matplotlib inline\n",
    "%load_ext autoreload\n",
    "%autoreload 2\n",
    "\n",
    "import matplotlib\n",
    "import matplotlib.pyplot as plt\n",
    "import matplotlib.cm as cm\n",
    "from matplotlib import gridspec"
   ]
  },
  {
   "cell_type": "code",
   "execution_count": 2,
   "metadata": {
    "collapsed": true
   },
   "outputs": [],
   "source": [
    "import sys\n",
    "sys.path.append('..')"
   ]
  },
  {
   "cell_type": "code",
   "execution_count": 3,
   "metadata": {
    "collapsed": false,
    "scrolled": true
   },
   "outputs": [
    {
     "name": "stdout",
     "output_type": "stream",
     "text": [
      "Build NTM model\n",
      "Percent: [####################] 100.00% Finished.\n",
      "Build NTM model finished\n",
      "Reading checkpoints...\n"
     ]
    }
   ],
   "source": [
    "from tasks import *\n",
    "\n",
    "input_dim=10\n",
    "output_dim=10\n",
    "\n",
    "sess = tf.InteractiveSession()\n",
    "\n",
    "cell = NTMCell(input_dim=input_dim, output_dim=output_dim)\n",
    "ntm = NTM(cell, sess, 1, 5, 10, forward_only=True)\n",
    "\n",
    "ntm.load('../checkpoint', 'copy')"
   ]
  },
  {
   "cell_type": "code",
   "execution_count": 4,
   "metadata": {
    "collapsed": false
   },
   "outputs": [
    {
     "name": "stdout",
     "output_type": "stream",
     "text": [
      " true output : \n",
      "   #    # \n",
      "  ## ## # \n",
      "  #       \n",
      "  ## # #  \n",
      "  #  #    \n",
      " predicted output :\n",
      "   #    # \n",
      "  ## ## # \n",
      "  #       \n",
      "  ## # #  \n",
      "  #  #    \n",
      " Loss : 0.000001\n"
     ]
    }
   ],
   "source": [
    "copy(ntm, 5, sess)"
   ]
  },
  {
   "cell_type": "code",
   "execution_count": 5,
   "metadata": {
    "collapsed": false
   },
   "outputs": [],
   "source": [
    "def plot(ntm, seq_length, sess):\n",
    "    seq, outputs, read_w, write_w, loss = copy(ntm, seq_length, sess, print_=False)\n",
    "    read_w[0] = np.squeeze(read_w[0])\n",
    "    write_w[0] = np.squeeze(write_w[0])\n",
    "\n",
    "    shape2 = list(np.array(outputs).shape)\n",
    "    shape2[0] += 2\n",
    "\n",
    "    shape3 = list(np.array(read_w).shape)\n",
    "    shape3[0] += 2\n",
    "\n",
    "    z1 = np.zeros_like(outputs)\n",
    "    z2 = np.zeros(shape2)\n",
    "\n",
    "    s1 = np.zeros_like(seq[0]); s1[0]=1\n",
    "    s2 = np.zeros_like(seq[0]); s2[1]=1\n",
    "\n",
    "    seq = [s1] + seq + [s2]\n",
    "\n",
    "    seq = np.r_[np.array(seq), z1]\n",
    "    outputs = np.r_[z2, outputs]\n",
    "\n",
    "    if seq_length >= 80:\n",
    "        fig = plt.figure(1,figsize=(20,16))\n",
    "        gs = gridspec.GridSpec(4, 1, height_ratios=[0.4, 0.4, 1.6, 1.6])\n",
    "    elif seq_length >= 60:\n",
    "        fig = plt.figure(1,figsize=(20,14))\n",
    "        gs = gridspec.GridSpec(4, 1, height_ratios=[0.6, 0.6, 1.4, 1.4])\n",
    "    elif seq_length >= 50:\n",
    "        fig = plt.figure(1,figsize=(20,14))\n",
    "        gs = gridspec.GridSpec(4, 1, height_ratios=[0.8, 0.8, 1.2, 1.2])\n",
    "    elif seq_length >= 20:\n",
    "        fig = plt.figure(1,figsize=(20,14))\n",
    "        gs = gridspec.GridSpec(4, 1, height_ratios=[0.9, 0.9, 1.1, 1.1])\n",
    "    else:\n",
    "        fig = plt.figure(1,figsize=(20,10))\n",
    "        gs = gridspec.GridSpec(4, 1, height_ratios=[1, 1, 1, 1])\n",
    "\n",
    "    ax0 = plt.subplot(gs[0])\n",
    "    ax0.imshow(seq.T, interpolation='nearest')\n",
    "    ax0.set_ylabel('input')\n",
    "    \n",
    "    ax1 = plt.subplot(gs[1])\n",
    "    ax1.imshow(outputs.T, interpolation='nearest')\n",
    "    ax1.set_xlabel('time')\n",
    "    ax1.set_ylabel('output')\n",
    "    \n",
    "    ax2 = plt.subplot(gs[2])\n",
    "    ax2.imshow(read_w[1:-1], cmap='Greys', interpolation='nearest')\n",
    "    ax2.set_xlabel('write weight')\n",
    "    ax2.set_ylabel('time')\n",
    "    \n",
    "    ax3 = plt.subplot(gs[3])\n",
    "    ax3.imshow(read_w[1:-1], cmap='Greys', interpolation='nearest')\n",
    "    ax3.set_xlabel('read weight')\n",
    "    ax3.set_ylabel('time')\n",
    "\n",
    "    print(\"Loss : %f\" % loss)"
   ]
  },
  {
   "cell_type": "code",
   "execution_count": 9,
   "metadata": {
    "collapsed": false,
    "scrolled": false
   },
   "outputs": [
    {
     "name": "stdout",
     "output_type": "stream",
     "text": [
      "Loss : 0.000002\n"
     ]
    },
    {
     "data": {
      "image/png": "[encoded data removed]",
      "text/plain": [
       "<matplotlib.figure.Figure at 0x125176890>"
      ]
     },
     "metadata": {},
     "output_type": "display_data"
    }
   ],
   "source": [
    "plot(ntm, 10, sess)"
   ]
  }
 ],
 "metadata": {
  "kernelspec": {
   "display_name": "Python 2",
   "language": "python",
   "name": "python2"
  },
  "language_info": {
   "codemirror_mode": {
    "name": "ipython",
    "version": 2
   },
   "file_extension": ".py",
   "mimetype": "text/x-python",
   "name": "python",
   "nbconvert_exporter": "python",
   "pygments_lexer": "ipython2",
   "version": "2.7.11"
  }
 },
 "nbformat": 4,
 "nbformat_minor": 0
}
